{
  "cells": [
    {
      "cell_type": "markdown",
      "metadata": {
        "id": "sv4baEABbtKh"
      },
      "source": [
        "### **Clone code về từ github**"
      ]
    },
    {
      "cell_type": "code",
      "execution_count": null,
      "metadata": {
        "colab": {
          "base_uri": "https://localhost:8080/"
        },
        "id": "S1og95n6IcOd",
        "outputId": "9ae9336b-5103-4764-88ac-290fcb0d3f2b"
      },
      "outputs": [
        {
          "name": "stdout",
          "output_type": "stream",
          "text": [
            "Cloning into 'DeepCCA'...\n",
            "remote: Enumerating objects: 27, done.\u001b[K\n",
            "remote: Counting objects: 100% (27/27), done.\u001b[K\n",
            "remote: Compressing objects: 100% (21/21), done.\u001b[K\n",
            "remote: Total 27 (delta 4), reused 23 (delta 2), pack-reused 0\u001b[K\n",
            "Unpacking objects: 100% (27/27), done.\n"
          ]
        }
      ],
      "source": [
        "!git clone https://github.com/ToanLyHoa/DeepCCA"
      ]
    },
    {
      "cell_type": "code",
      "execution_count": null,
      "metadata": {
        "colab": {
          "base_uri": "https://localhost:8080/"
        },
        "id": "jmUOdVhpIlbw",
        "outputId": "4bbea54c-4d65-4f0b-bfe0-deb41bbc436b"
      },
      "outputs": [
        {
          "name": "stdout",
          "output_type": "stream",
          "text": [
            "/content/DeepCCA\n"
          ]
        }
      ],
      "source": [
        "cd DeepCCA"
      ]
    },
    {
      "cell_type": "markdown",
      "metadata": {
        "id": "8FvStDGGb-jv"
      },
      "source": [
        "### **Chuẩn bị đầy đủ các thư viện**"
      ]
    },
    {
      "cell_type": "code",
      "execution_count": null,
      "metadata": {
        "id": "lsET9KLDIwq5"
      },
      "outputs": [],
      "source": [
        "%load_ext autoreload\n",
        "%autoreload 2\n",
        "import torch\n",
        "import torch.nn as nn\n",
        "import numpy as np\n",
        "from linear_cca import linear_cca\n",
        "from torch.utils.data import BatchSampler, SequentialSampler\n",
        "from DeepCCAModels import DeepCCA\n",
        "from main import Solver\n",
        "from utils import load_data, svm_classify\n",
        "try:\n",
        "    import cPickle as thepickle\n",
        "except ImportError:\n",
        "    import _pickle as thepickle\n",
        "\n",
        "import gzip\n",
        "import numpy as np\n",
        "torch.set_default_tensor_type(torch.DoubleTensor)"
      ]
    },
    {
      "cell_type": "markdown",
      "metadata": {
        "id": "MABhAhHULtvQ"
      },
      "source": [
        "### **Tải dữ liệu vào folder DeepCCA**\n",
        "### **Sau đó load vào data1 và data2**"
      ]
    },
    {
      "cell_type": "code",
      "execution_count": null,
      "metadata": {
        "colab": {
          "base_uri": "https://localhost:8080/"
        },
        "id": "cmKuG2rYLWQj",
        "outputId": "78023402-2ed2-48d6-ecfe-34fa00099105"
      },
      "outputs": [
        {
          "name": "stdout",
          "output_type": "stream",
          "text": [
            "Downloading...\n",
            "From: https://www2.cs.uic.edu/~vnoroozi/noisy-mnist/noisymnist_view1.gz\n",
            "To: /content/DeepCCA/noisymnist_view1.gz\n",
            "100% 88.9M/88.9M [00:01<00:00, 46.0MB/s]\n",
            "Downloading...\n",
            "From: https://www2.cs.uic.edu/~vnoroozi/noisy-mnist/noisymnist_view2.gz\n",
            "To: /content/DeepCCA/noisymnist_view2.gz\n",
            "100% 210M/210M [00:04<00:00, 50.2MB/s]\n",
            "loading data ...\n",
            "loading data ...\n"
          ]
        }
      ],
      "source": [
        "!gdown  https://www2.cs.uic.edu/~vnoroozi/noisy-mnist/noisymnist_view1.gz\n",
        "!gdown  https://www2.cs.uic.edu/~vnoroozi/noisy-mnist/noisymnist_view2.gz\n",
        "data1 = load_data('noisymnist_view1.gz')\n",
        "data2 = load_data('noisymnist_view2.gz')"
      ]
    },
    {
      "cell_type": "markdown",
      "metadata": {
        "id": "2eW-niqSNSeq"
      },
      "source": [
        "### **Set up mọi thứ trước khi train**"
      ]
    },
    {
      "cell_type": "code",
      "execution_count": null,
      "metadata": {
        "colab": {
          "base_uri": "https://localhost:8080/"
        },
        "id": "iGzqIgWCJV2h",
        "outputId": "c9bb3db8-4147-4573-c0f9-d39737b506f3"
      },
      "outputs": [
        {
          "name": "stdout",
          "output_type": "stream",
          "text": [
            "Using 1 GPUs\n"
          ]
        }
      ],
      "source": [
        "device = torch.device('cuda')\n",
        "print(\"Using\", torch.cuda.device_count(), \"GPUs\")\n",
        "\n",
        "# the path to save the final learned features\n",
        "save_to = './new_features.gz'\n",
        "\n",
        "# the size of the new space learned by the model (number of the new features)\n",
        "outdim_size = 10\n",
        "\n",
        "# size of the input for view 1 and view 2\n",
        "input_shape1 = 784\n",
        "input_shape2 = 784\n",
        "\n",
        "# number of layers with nodes in each one\n",
        "layer_sizes1 = [1024, 1024, 1024, outdim_size]\n",
        "layer_sizes2 = [1024, 1024, 1024, outdim_size]\n",
        "\n",
        "# the parameters for training the network\n",
        "learning_rate = 1e-3\n",
        "epoch_num = 10\n",
        "batch_size = 800\n",
        "\n",
        "# the regularization parameter of the network\n",
        "# seems necessary to avoid the gradient exploding especially when non-saturating activations are used\n",
        "reg_par = 1e-5\n",
        "\n",
        "# specifies if all the singular values should get used to calculate the correlation or just the top outdim_size ones\n",
        "# if one option does not work for a network or dataset, try the other one\n",
        "use_all_singular_values = False\n",
        "\n",
        "# if a linear CCA should get applied on the learned features extracted from the networks\n",
        "# it does not affect the performance on noisy MNIST significantly\n",
        "apply_linear_cca = True\n",
        "# end of parameters section\n",
        "############"
      ]
    },
    {
      "cell_type": "markdown",
      "metadata": {
        "id": "xI7rXeUOO9tF"
      },
      "source": [
        "### **Tiến hành train mô hình DeepCCA**"
      ]
    },
    {
      "cell_type": "code",
      "execution_count": null,
      "metadata": {
        "colab": {
          "base_uri": "https://localhost:8080/"
        },
        "id": "62cd9bzfNRD6",
        "outputId": "d6504beb-3a9f-441c-92df-9c89ac71dd56"
      },
      "outputs": [
        {
          "name": "stderr",
          "output_type": "stream",
          "text": [
            "[ INFO : 2022-06-23 13:03:12,561 ] - DataParallel(\n",
            "  (module): DeepCCA(\n",
            "    (model1): MlpNet(\n",
            "      (layers): ModuleList(\n",
            "        (0): Sequential(\n",
            "          (0): Linear(in_features=784, out_features=1024, bias=True)\n",
            "          (1): Sigmoid()\n",
            "          (2): BatchNorm1d(1024, eps=1e-05, momentum=0.1, affine=False, track_running_stats=True)\n",
            "        )\n",
            "        (1): Sequential(\n",
            "          (0): Linear(in_features=1024, out_features=1024, bias=True)\n",
            "          (1): Sigmoid()\n",
            "          (2): BatchNorm1d(1024, eps=1e-05, momentum=0.1, affine=False, track_running_stats=True)\n",
            "        )\n",
            "        (2): Sequential(\n",
            "          (0): Linear(in_features=1024, out_features=1024, bias=True)\n",
            "          (1): Sigmoid()\n",
            "          (2): BatchNorm1d(1024, eps=1e-05, momentum=0.1, affine=False, track_running_stats=True)\n",
            "        )\n",
            "        (3): Sequential(\n",
            "          (0): BatchNorm1d(1024, eps=1e-05, momentum=0.1, affine=False, track_running_stats=True)\n",
            "          (1): Linear(in_features=1024, out_features=10, bias=True)\n",
            "        )\n",
            "      )\n",
            "    )\n",
            "    (model2): MlpNet(\n",
            "      (layers): ModuleList(\n",
            "        (0): Sequential(\n",
            "          (0): Linear(in_features=784, out_features=1024, bias=True)\n",
            "          (1): Sigmoid()\n",
            "          (2): BatchNorm1d(1024, eps=1e-05, momentum=0.1, affine=False, track_running_stats=True)\n",
            "        )\n",
            "        (1): Sequential(\n",
            "          (0): Linear(in_features=1024, out_features=1024, bias=True)\n",
            "          (1): Sigmoid()\n",
            "          (2): BatchNorm1d(1024, eps=1e-05, momentum=0.1, affine=False, track_running_stats=True)\n",
            "        )\n",
            "        (2): Sequential(\n",
            "          (0): Linear(in_features=1024, out_features=1024, bias=True)\n",
            "          (1): Sigmoid()\n",
            "          (2): BatchNorm1d(1024, eps=1e-05, momentum=0.1, affine=False, track_running_stats=True)\n",
            "        )\n",
            "        (3): Sequential(\n",
            "          (0): BatchNorm1d(1024, eps=1e-05, momentum=0.1, affine=False, track_running_stats=True)\n",
            "          (1): Linear(in_features=1024, out_features=10, bias=True)\n",
            "        )\n",
            "      )\n",
            "    )\n",
            "  )\n",
            ")\n",
            "[ INFO : 2022-06-23 13:03:12,564 ] - RMSprop (\n",
            "Parameter Group 0\n",
            "    alpha: 0.99\n",
            "    centered: False\n",
            "    eps: 1e-08\n",
            "    lr: 0.001\n",
            "    momentum: 0\n",
            "    weight_decay: 1e-05\n",
            ")\n",
            "/content/DeepCCA/objectives.py:46: UserWarning: torch.symeig is deprecated in favor of torch.linalg.eigh and will be removed in a future PyTorch release.\n",
            "The default behavior has changed from using the upper triangular portion of the matrix by default to using the lower triangular portion.\n",
            "L, _ = torch.symeig(A, upper=upper)\n",
            "should be replaced with\n",
            "L = torch.linalg.eigvalsh(A, UPLO='U' if upper else 'L')\n",
            "and\n",
            "L, V = torch.symeig(A, eigenvectors=True)\n",
            "should be replaced with\n",
            "L, V = torch.linalg.eigh(A, UPLO='U' if upper else 'L') (Triggered internally at  ../aten/src/ATen/native/BatchLinearAlgebra.cpp:2524.)\n",
            "  [D1, V1] = torch.symeig(SigmaHat11, eigenvectors=True)\n",
            "[ INFO : 2022-06-23 13:03:22,354 ] - Epoch 1: val_loss improved from 0.0000 to -5.8907, saving model to checkpoint.model\n",
            "[ INFO : 2022-06-23 13:03:22,435 ] - Epoch 1/10 - time: 9.68 - training_loss: -4.9077 - val_loss: -5.8907\n",
            "[ INFO : 2022-06-23 13:03:31,650 ] - Epoch 2: val_loss improved from -5.8907 to -6.8064, saving model to checkpoint.model\n",
            "[ INFO : 2022-06-23 13:03:31,755 ] - Epoch 2/10 - time: 9.32 - training_loss: -5.7830 - val_loss: -6.8064\n",
            "[ INFO : 2022-06-23 13:03:40,970 ] - Epoch 3: val_loss improved from -6.8064 to -7.0962, saving model to checkpoint.model\n",
            "[ INFO : 2022-06-23 13:03:41,078 ] - Epoch 3/10 - time: 9.32 - training_loss: -6.2896 - val_loss: -7.0962\n",
            "[ INFO : 2022-06-23 13:03:50,207 ] - Epoch 4: val_loss improved from -7.0962 to -7.3651, saving model to checkpoint.model\n",
            "[ INFO : 2022-06-23 13:03:50,310 ] - Epoch 4/10 - time: 9.23 - training_loss: -6.6283 - val_loss: -7.3651\n",
            "[ INFO : 2022-06-23 13:03:59,587 ] - Epoch 5: val_loss did not improve from -7.3651\n",
            "[ INFO : 2022-06-23 13:03:59,588 ] - Epoch 5/10 - time: 9.27 - training_loss: -6.8786 - val_loss: -7.3152\n",
            "[ INFO : 2022-06-23 13:04:08,864 ] - Epoch 6: val_loss improved from -7.3651 to -7.4961, saving model to checkpoint.model\n",
            "[ INFO : 2022-06-23 13:04:08,972 ] - Epoch 6/10 - time: 9.38 - training_loss: -7.0760 - val_loss: -7.4961\n",
            "[ INFO : 2022-06-23 13:04:18,240 ] - Epoch 7: val_loss improved from -7.4961 to -7.6828, saving model to checkpoint.model\n",
            "[ INFO : 2022-06-23 13:04:18,339 ] - Epoch 7/10 - time: 9.36 - training_loss: -7.2402 - val_loss: -7.6828\n",
            "[ INFO : 2022-06-23 13:04:27,350 ] - Epoch 8: val_loss improved from -7.6828 to -7.7465, saving model to checkpoint.model\n",
            "[ INFO : 2022-06-23 13:04:27,453 ] - Epoch 8/10 - time: 9.11 - training_loss: -7.3775 - val_loss: -7.7465\n",
            "[ INFO : 2022-06-23 13:04:36,458 ] - Epoch 9: val_loss improved from -7.7465 to -7.7487, saving model to checkpoint.model\n",
            "[ INFO : 2022-06-23 13:04:36,556 ] - Epoch 9/10 - time: 9.10 - training_loss: -7.4943 - val_loss: -7.7487\n",
            "[ INFO : 2022-06-23 13:04:45,800 ] - Epoch 10: val_loss improved from -7.7487 to -7.8439, saving model to checkpoint.model\n",
            "[ INFO : 2022-06-23 13:04:45,905 ] - Epoch 10/10 - time: 9.34 - training_loss: -7.5978 - val_loss: -7.8439\n",
            "[ INFO : 2022-06-23 13:04:50,095 ] - loss on validation data: -7.8439\n",
            "[ INFO : 2022-06-23 13:04:50,783 ] - loss on test data: -7.8251\n"
          ]
        },
        {
          "name": "stdout",
          "output_type": "stream",
          "text": [
            "Linear CCA started!\n"
          ]
        }
      ],
      "source": [
        "# Building, training, and producing the new features by DCCA\n",
        "model = DeepCCA(layer_sizes1, layer_sizes2, input_shape1,\n",
        "                input_shape2, outdim_size, use_all_singular_values, device=device).double()\n",
        "l_cca = None\n",
        "if apply_linear_cca:\n",
        "    l_cca = linear_cca()\n",
        "solver = Solver(model, l_cca, outdim_size, epoch_num, batch_size,\n",
        "                learning_rate, reg_par, device=device)\n",
        "train1, train2 = data1[0][0], data2[0][0]\n",
        "val1, val2 = data1[1][0], data2[1][0]\n",
        "test1, test2 = data1[2][0], data2[2][0]\n",
        "# val1=None\n",
        "# test1=None\n",
        "solver.fit(train1, train2, val1, val2, test1, test2)\n",
        "# TODO: Save linear_cca model if needed\n",
        "\n",
        "set_size = [0, train1.size(0), train1.size(\n",
        "    0) + val1.size(0), train1.size(0) + val1.size(0) + test1.size(0)]\n",
        "loss, outputs = solver.test(torch.cat([train1, val1, test1], dim=0), torch.cat(\n",
        "      [train2, val2, test2], dim=0), apply_linear_cca)"
      ]
    },
    {
      "cell_type": "markdown",
      "metadata": {
        "id": "wV1nuek_PBr8"
      },
      "source": [
        "### **Thực hiện train SVM để phân lớp các thuộc tích khi đã qua DeepCCA cho Data1 là dữ liệu không nhiễu**"
      ]
    },
    {
      "cell_type": "code",
      "execution_count": null,
      "metadata": {
        "colab": {
          "base_uri": "https://localhost:8080/"
        },
        "id": "3nYW1ozWNzuB",
        "outputId": "0ba6feff-063e-4131-93ed-111046f6118b"
      },
      "outputs": [
        {
          "name": "stdout",
          "output_type": "stream",
          "text": [
            "training SVM...\n",
            "Accuracy on view 1 (training data) is: 97.162\n",
            "Accuracy on view 1 (validation data) is: 95.48\n",
            "Accuracy on view 1 (test data) is: 95.45\n"
          ]
        }
      ],
      "source": [
        "new_data = []\n",
        "# print(outputs)\n",
        "for idx in range(3):\n",
        "    new_data.append([outputs[0][set_size[idx]:set_size[idx + 1], :],\n",
        "                     outputs[1][set_size[idx]:set_size[idx + 1], :], data1[idx][1]])\n",
        "# Training and testing of SVM with linear kernel on the view 1 with new features\n",
        "[test_acc, valid_acc, train_acc] = svm_classify(new_data, C=0.01)\n",
        "print(\"Accuracy on view 1 (training data) is:\", train_acc * 100.0)\n",
        "print(\"Accuracy on view 1 (validation data) is:\", valid_acc * 100.0)\n",
        "print(\"Accuracy on view 1 (test data) is:\", test_acc*100.0)"
      ]
    },
    {
      "cell_type": "markdown",
      "metadata": {
        "id": "nuZJVGviU0Bh"
      },
      "source": [
        "### **SVM cho data2 dữ liệu nhiễu**"
      ]
    },
    {
      "cell_type": "code",
      "execution_count": null,
      "metadata": {
        "colab": {
          "base_uri": "https://localhost:8080/"
        },
        "id": "9Tj_hk6IUAjy",
        "outputId": "3f1f6e53-9d31-4770-ef17-db648dfacdb4"
      },
      "outputs": [
        {
          "name": "stdout",
          "output_type": "stream",
          "text": [
            "training SVM...\n",
            "Accuracy on view 2 (training data) is: 98.212\n",
            "Accuracy on view 2 (validation data) is: 92.77\n",
            "Accuracy on view 2 (test data) is: 92.85\n"
          ]
        }
      ],
      "source": [
        "new_data = []\n",
        "# print(outputs)\n",
        "for idx in range(3):\n",
        "    new_data.append([outputs[1][set_size[idx]:set_size[idx + 1], :],\n",
        "                     outputs[0][set_size[idx]:set_size[idx + 1], :], data2[idx][1]])\n",
        "# Training and testing of SVM with linear kernel on the view 1 with new features\n",
        "[test_acc, valid_acc, train_acc] = svm_classify(new_data, C=0.01)\n",
        "print(\"Accuracy on view 2 (training data) is:\", train_acc * 100.0)\n",
        "print(\"Accuracy on view 2 (validation data) is:\", valid_acc * 100.0)\n",
        "print(\"Accuracy on view 2 (test data) is:\", test_acc*100.0)"
      ]
    },
    {
      "cell_type": "markdown",
      "metadata": {
        "id": "x_CvwJLflDQB"
      },
      "source": [
        "### **Demo kết quả**"
      ]
    },
    {
      "cell_type": "code",
      "execution_count": null,
      "metadata": {
        "colab": {
          "base_uri": "https://localhost:8080/",
          "height": 1000
        },
        "id": "lPt4gG3GlECt",
        "outputId": "bd3775c0-8485-48cc-cba5-20149d7c1a2d"
      },
      "outputs": [
        {
          "name": "stderr",
          "output_type": "stream",
          "text": [
            "[ DEBUG : 2022-06-23 13:05:49,606 ] - Falling back to TensorFlow client; we recommended you install the Cloud TPU client directly with pip install cloud-tpu-client.\n",
            "[ DEBUG : 2022-06-23 13:05:49,838 ] - Creating converter from 7 to 5\n",
            "[ DEBUG : 2022-06-23 13:05:49,840 ] - Creating converter from 5 to 7\n",
            "[ DEBUG : 2022-06-23 13:05:49,845 ] - Creating converter from 7 to 5\n",
            "[ DEBUG : 2022-06-23 13:05:49,852 ] - Creating converter from 5 to 7\n",
            "[ INFO : 2022-06-23 13:05:50,677 ] - NumExpr defaulting to 2 threads.\n",
            "[ DEBUG : 2022-06-23 13:05:50,888 ] - findfont: Matching sans\\-serif:style=normal:variant=normal:weight=normal:stretch=normal:size=12.0.\n",
            "[ DEBUG : 2022-06-23 13:05:50,890 ] - findfont: score(<Font 'STIXNonUnicode' (STIXNonUni.ttf) normal normal regular normal>) = 10.05\n",
            "[ DEBUG : 2022-06-23 13:05:50,894 ] - findfont: score(<Font 'DejaVu Sans Mono' (DejaVuSansMono-BoldOblique.ttf) oblique normal 700 normal>) = 11.335\n",
            "[ DEBUG : 2022-06-23 13:05:50,899 ] - findfont: score(<Font 'STIXSizeThreeSym' (STIXSizThreeSymBol.ttf) normal normal 700 normal>) = 10.335\n",
            "[ DEBUG : 2022-06-23 13:05:50,900 ] - findfont: score(<Font 'STIXNonUnicode' (STIXNonUniBol.ttf) normal normal 700 normal>) = 10.335\n",
            "[ DEBUG : 2022-06-23 13:05:50,903 ] - findfont: score(<Font 'DejaVu Sans Mono' (DejaVuSansMono-Oblique.ttf) oblique normal 400 normal>) = 11.05\n",
            "[ DEBUG : 2022-06-23 13:05:50,906 ] - findfont: score(<Font 'DejaVu Serif' (DejaVuSerif.ttf) normal normal 400 normal>) = 10.05\n",
            "[ DEBUG : 2022-06-23 13:05:50,909 ] - findfont: score(<Font 'cmsy10' (cmsy10.ttf) normal normal 400 normal>) = 10.05\n",
            "[ DEBUG : 2022-06-23 13:05:50,912 ] - findfont: score(<Font 'STIXSizeOneSym' (STIXSizOneSymReg.ttf) normal normal regular normal>) = 10.05\n",
            "[ DEBUG : 2022-06-23 13:05:50,914 ] - findfont: score(<Font 'cmtt10' (cmtt10.ttf) normal normal 400 normal>) = 10.05\n",
            "[ DEBUG : 2022-06-23 13:05:50,916 ] - findfont: score(<Font 'DejaVu Serif Display' (DejaVuSerifDisplay.ttf) normal normal 400 normal>) = 10.05\n",
            "[ DEBUG : 2022-06-23 13:05:50,918 ] - findfont: score(<Font 'DejaVu Sans Mono' (DejaVuSansMono.ttf) normal normal 400 normal>) = 10.05\n",
            "[ DEBUG : 2022-06-23 13:05:50,919 ] - findfont: score(<Font 'DejaVu Serif' (DejaVuSerif-Bold.ttf) normal normal 700 normal>) = 10.335\n",
            "[ DEBUG : 2022-06-23 13:05:50,920 ] - findfont: score(<Font 'STIXGeneral' (STIXGeneralBolIta.ttf) italic normal 700 normal>) = 11.335\n",
            "[ DEBUG : 2022-06-23 13:05:50,922 ] - findfont: score(<Font 'cmss10' (cmss10.ttf) normal normal 400 normal>) = 10.05\n",
            "[ DEBUG : 2022-06-23 13:05:50,924 ] - findfont: score(<Font 'cmex10' (cmex10.ttf) normal normal 400 normal>) = 10.05\n",
            "[ DEBUG : 2022-06-23 13:05:50,925 ] - findfont: score(<Font 'DejaVu Serif' (DejaVuSerif-BoldItalic.ttf) italic normal 700 normal>) = 11.335\n",
            "[ DEBUG : 2022-06-23 13:05:50,927 ] - findfont: score(<Font 'cmmi10' (cmmi10.ttf) normal normal 400 normal>) = 10.05\n",
            "[ DEBUG : 2022-06-23 13:05:50,928 ] - findfont: score(<Font 'STIXGeneral' (STIXGeneral.ttf) normal normal regular normal>) = 10.05\n",
            "[ DEBUG : 2022-06-23 13:05:50,929 ] - findfont: score(<Font 'STIXSizeThreeSym' (STIXSizThreeSymReg.ttf) normal normal regular normal>) = 10.05\n",
            "[ DEBUG : 2022-06-23 13:05:50,931 ] - findfont: score(<Font 'DejaVu Sans' (DejaVuSans.ttf) normal normal 400 normal>) = 0.05\n",
            "[ DEBUG : 2022-06-23 13:05:50,932 ] - findfont: score(<Font 'STIXSizeFiveSym' (STIXSizFiveSymReg.ttf) normal normal regular normal>) = 10.05\n",
            "[ DEBUG : 2022-06-23 13:05:50,934 ] - findfont: score(<Font 'STIXNonUnicode' (STIXNonUniBolIta.ttf) italic normal 700 normal>) = 11.335\n",
            "[ DEBUG : 2022-06-23 13:05:50,935 ] - findfont: score(<Font 'STIXSizeTwoSym' (STIXSizTwoSymReg.ttf) normal normal regular normal>) = 10.05\n",
            "[ DEBUG : 2022-06-23 13:05:50,936 ] - findfont: score(<Font 'STIXNonUnicode' (STIXNonUniIta.ttf) italic normal 400 normal>) = 11.05\n",
            "[ DEBUG : 2022-06-23 13:05:50,938 ] - findfont: score(<Font 'STIXSizeFourSym' (STIXSizFourSymBol.ttf) normal normal 700 normal>) = 10.335\n",
            "[ DEBUG : 2022-06-23 13:05:50,939 ] - findfont: score(<Font 'DejaVu Serif' (DejaVuSerif-Italic.ttf) italic normal 400 normal>) = 11.05\n",
            "[ DEBUG : 2022-06-23 13:05:50,941 ] - findfont: score(<Font 'DejaVu Sans' (DejaVuSans-Bold.ttf) normal normal 700 normal>) = 0.33499999999999996\n",
            "[ DEBUG : 2022-06-23 13:05:50,942 ] - findfont: score(<Font 'STIXSizeFourSym' (STIXSizFourSymReg.ttf) normal normal regular normal>) = 10.05\n",
            "[ DEBUG : 2022-06-23 13:05:50,943 ] - findfont: score(<Font 'DejaVu Sans Mono' (DejaVuSansMono-Bold.ttf) normal normal 700 normal>) = 10.335\n",
            "[ DEBUG : 2022-06-23 13:05:50,945 ] - findfont: score(<Font 'STIXSizeOneSym' (STIXSizOneSymBol.ttf) normal normal 700 normal>) = 10.335\n",
            "[ DEBUG : 2022-06-23 13:05:50,946 ] - findfont: score(<Font 'DejaVu Sans' (DejaVuSans-BoldOblique.ttf) oblique normal 700 normal>) = 1.335\n",
            "[ DEBUG : 2022-06-23 13:05:50,948 ] - findfont: score(<Font 'cmr10' (cmr10.ttf) normal normal 400 normal>) = 10.05\n",
            "[ DEBUG : 2022-06-23 13:05:50,949 ] - findfont: score(<Font 'STIXGeneral' (STIXGeneralItalic.ttf) italic normal 400 normal>) = 11.05\n",
            "[ DEBUG : 2022-06-23 13:05:50,951 ] - findfont: score(<Font 'STIXSizeTwoSym' (STIXSizTwoSymBol.ttf) normal normal 700 normal>) = 10.335\n",
            "[ DEBUG : 2022-06-23 13:05:50,952 ] - findfont: score(<Font 'STIXGeneral' (STIXGeneralBol.ttf) normal normal 700 normal>) = 10.335\n",
            "[ DEBUG : 2022-06-23 13:05:50,954 ] - findfont: score(<Font 'DejaVu Sans' (DejaVuSans-Oblique.ttf) oblique normal 400 normal>) = 1.05\n",
            "[ DEBUG : 2022-06-23 13:05:50,955 ] - findfont: score(<Font 'cmb10' (cmb10.ttf) normal normal 400 normal>) = 10.05\n",
            "[ DEBUG : 2022-06-23 13:05:50,957 ] - findfont: score(<Font 'DejaVu Sans Display' (DejaVuSansDisplay.ttf) normal normal 400 normal>) = 10.05\n",
            "[ DEBUG : 2022-06-23 13:05:50,959 ] - findfont: score(<Font 'Liberation Serif' (LiberationSerif-BoldItalic.ttf) italic normal 700 normal>) = 11.335\n",
            "[ DEBUG : 2022-06-23 13:05:50,960 ] - findfont: score(<Font 'Liberation Sans Narrow' (LiberationSansNarrow-Italic.ttf) italic normal 400 condensed>) = 11.25\n",
            "[ DEBUG : 2022-06-23 13:05:50,961 ] - findfont: score(<Font 'Liberation Serif' (LiberationSerif-Bold.ttf) normal normal 700 normal>) = 10.335\n",
            "[ DEBUG : 2022-06-23 13:05:50,963 ] - findfont: score(<Font 'Liberation Mono' (LiberationMono-Bold.ttf) normal normal 700 normal>) = 10.335\n",
            "[ DEBUG : 2022-06-23 13:05:50,965 ] - findfont: score(<Font 'Liberation Sans' (LiberationSans-Bold.ttf) normal normal 700 normal>) = 10.335\n",
            "[ DEBUG : 2022-06-23 13:05:50,966 ] - findfont: score(<Font 'Liberation Serif' (LiberationSerif-Regular.ttf) normal normal 400 normal>) = 10.05\n",
            "[ DEBUG : 2022-06-23 13:05:50,967 ] - findfont: score(<Font 'Liberation Sans' (LiberationSans-Italic.ttf) italic normal 400 normal>) = 11.05\n",
            "[ DEBUG : 2022-06-23 13:05:50,969 ] - findfont: score(<Font 'Liberation Sans Narrow' (LiberationSansNarrow-BoldItalic.ttf) italic normal 700 condensed>) = 11.535\n",
            "[ DEBUG : 2022-06-23 13:05:50,970 ] - findfont: score(<Font 'Liberation Serif' (LiberationSerif-Italic.ttf) italic normal 400 normal>) = 11.05\n",
            "[ DEBUG : 2022-06-23 13:05:50,972 ] - findfont: score(<Font 'Liberation Mono' (LiberationMono-Regular.ttf) normal normal 400 normal>) = 10.05\n",
            "[ DEBUG : 2022-06-23 13:05:50,973 ] - findfont: score(<Font 'Liberation Sans Narrow' (LiberationSansNarrow-Bold.ttf) normal normal 700 condensed>) = 10.535\n",
            "[ DEBUG : 2022-06-23 13:05:50,974 ] - findfont: score(<Font 'Humor Sans' (Humor-Sans.ttf) normal normal 400 normal>) = 10.05\n",
            "[ DEBUG : 2022-06-23 13:05:50,976 ] - findfont: score(<Font 'Liberation Sans Narrow' (LiberationSansNarrow-Regular.ttf) normal normal 400 condensed>) = 10.25\n",
            "[ DEBUG : 2022-06-23 13:05:50,977 ] - findfont: score(<Font 'Liberation Mono' (LiberationMono-Italic.ttf) italic normal 400 normal>) = 11.05\n",
            "[ DEBUG : 2022-06-23 13:05:50,979 ] - findfont: score(<Font 'Liberation Sans' (LiberationSans-BoldItalic.ttf) italic normal 700 normal>) = 11.335\n",
            "[ DEBUG : 2022-06-23 13:05:50,980 ] - findfont: score(<Font 'Liberation Sans' (LiberationSans-Regular.ttf) normal normal 400 normal>) = 10.05\n",
            "[ DEBUG : 2022-06-23 13:05:50,982 ] - findfont: score(<Font 'Liberation Mono' (LiberationMono-BoldItalic.ttf) italic normal 700 normal>) = 11.335\n",
            "[ DEBUG : 2022-06-23 13:05:50,983 ] - findfont: Matching sans\\-serif:style=normal:variant=normal:weight=normal:stretch=normal:size=12.0 to DejaVu Sans ('/usr/local/lib/python3.7/dist-packages/matplotlib/mpl-data/fonts/ttf/DejaVuSans.ttf') with score of 0.050000.\n",
            "[ DEBUG : 2022-06-23 13:05:51,015 ] - findfont: Matching sans\\-serif:style=normal:variant=normal:weight=normal:stretch=normal:size=10.0.\n",
            "[ DEBUG : 2022-06-23 13:05:51,020 ] - findfont: score(<Font 'STIXNonUnicode' (STIXNonUni.ttf) normal normal regular normal>) = 10.05\n",
            "[ DEBUG : 2022-06-23 13:05:51,022 ] - findfont: score(<Font 'DejaVu Sans Mono' (DejaVuSansMono-BoldOblique.ttf) oblique normal 700 normal>) = 11.335\n",
            "[ DEBUG : 2022-06-23 13:05:51,024 ] - findfont: score(<Font 'STIXSizeThreeSym' (STIXSizThreeSymBol.ttf) normal normal 700 normal>) = 10.335\n",
            "[ DEBUG : 2022-06-23 13:05:51,026 ] - findfont: score(<Font 'STIXNonUnicode' (STIXNonUniBol.ttf) normal normal 700 normal>) = 10.335\n",
            "[ DEBUG : 2022-06-23 13:05:51,027 ] - findfont: score(<Font 'DejaVu Sans Mono' (DejaVuSansMono-Oblique.ttf) oblique normal 400 normal>) = 11.05\n",
            "[ DEBUG : 2022-06-23 13:05:51,028 ] - findfont: score(<Font 'DejaVu Serif' (DejaVuSerif.ttf) normal normal 400 normal>) = 10.05\n",
            "[ DEBUG : 2022-06-23 13:05:51,030 ] - findfont: score(<Font 'cmsy10' (cmsy10.ttf) normal normal 400 normal>) = 10.05\n",
            "[ DEBUG : 2022-06-23 13:05:51,032 ] - findfont: score(<Font 'STIXSizeOneSym' (STIXSizOneSymReg.ttf) normal normal regular normal>) = 10.05\n",
            "[ DEBUG : 2022-06-23 13:05:51,033 ] - findfont: score(<Font 'cmtt10' (cmtt10.ttf) normal normal 400 normal>) = 10.05\n",
            "[ DEBUG : 2022-06-23 13:05:51,034 ] - findfont: score(<Font 'DejaVu Serif Display' (DejaVuSerifDisplay.ttf) normal normal 400 normal>) = 10.05\n",
            "[ DEBUG : 2022-06-23 13:05:51,036 ] - findfont: score(<Font 'DejaVu Sans Mono' (DejaVuSansMono.ttf) normal normal 400 normal>) = 10.05\n",
            "[ DEBUG : 2022-06-23 13:05:51,037 ] - findfont: score(<Font 'DejaVu Serif' (DejaVuSerif-Bold.ttf) normal normal 700 normal>) = 10.335\n",
            "[ DEBUG : 2022-06-23 13:05:51,039 ] - findfont: score(<Font 'STIXGeneral' (STIXGeneralBolIta.ttf) italic normal 700 normal>) = 11.335\n",
            "[ DEBUG : 2022-06-23 13:05:51,040 ] - findfont: score(<Font 'cmss10' (cmss10.ttf) normal normal 400 normal>) = 10.05\n",
            "[ DEBUG : 2022-06-23 13:05:51,041 ] - findfont: score(<Font 'cmex10' (cmex10.ttf) normal normal 400 normal>) = 10.05\n",
            "[ DEBUG : 2022-06-23 13:05:51,043 ] - findfont: score(<Font 'DejaVu Serif' (DejaVuSerif-BoldItalic.ttf) italic normal 700 normal>) = 11.335\n",
            "[ DEBUG : 2022-06-23 13:05:51,044 ] - findfont: score(<Font 'cmmi10' (cmmi10.ttf) normal normal 400 normal>) = 10.05\n",
            "[ DEBUG : 2022-06-23 13:05:51,045 ] - findfont: score(<Font 'STIXGeneral' (STIXGeneral.ttf) normal normal regular normal>) = 10.05\n",
            "[ DEBUG : 2022-06-23 13:05:51,047 ] - findfont: score(<Font 'STIXSizeThreeSym' (STIXSizThreeSymReg.ttf) normal normal regular normal>) = 10.05\n",
            "[ DEBUG : 2022-06-23 13:05:51,048 ] - findfont: score(<Font 'DejaVu Sans' (DejaVuSans.ttf) normal normal 400 normal>) = 0.05\n",
            "[ DEBUG : 2022-06-23 13:05:51,049 ] - findfont: score(<Font 'STIXSizeFiveSym' (STIXSizFiveSymReg.ttf) normal normal regular normal>) = 10.05\n",
            "[ DEBUG : 2022-06-23 13:05:51,051 ] - findfont: score(<Font 'STIXNonUnicode' (STIXNonUniBolIta.ttf) italic normal 700 normal>) = 11.335\n",
            "[ DEBUG : 2022-06-23 13:05:51,052 ] - findfont: score(<Font 'STIXSizeTwoSym' (STIXSizTwoSymReg.ttf) normal normal regular normal>) = 10.05\n",
            "[ DEBUG : 2022-06-23 13:05:51,054 ] - findfont: score(<Font 'STIXNonUnicode' (STIXNonUniIta.ttf) italic normal 400 normal>) = 11.05\n",
            "[ DEBUG : 2022-06-23 13:05:51,055 ] - findfont: score(<Font 'STIXSizeFourSym' (STIXSizFourSymBol.ttf) normal normal 700 normal>) = 10.335\n",
            "[ DEBUG : 2022-06-23 13:05:51,056 ] - findfont: score(<Font 'DejaVu Serif' (DejaVuSerif-Italic.ttf) italic normal 400 normal>) = 11.05\n",
            "[ DEBUG : 2022-06-23 13:05:51,059 ] - findfont: score(<Font 'DejaVu Sans' (DejaVuSans-Bold.ttf) normal normal 700 normal>) = 0.33499999999999996\n",
            "[ DEBUG : 2022-06-23 13:05:51,061 ] - findfont: score(<Font 'STIXSizeFourSym' (STIXSizFourSymReg.ttf) normal normal regular normal>) = 10.05\n",
            "[ DEBUG : 2022-06-23 13:05:51,062 ] - findfont: score(<Font 'DejaVu Sans Mono' (DejaVuSansMono-Bold.ttf) normal normal 700 normal>) = 10.335\n"
          ]
        },
        {
          "name": "stdout",
          "output_type": "stream",
          "text": [
            "PREDICTION:  2\n"
          ]
        },
        {
          "name": "stderr",
          "output_type": "stream",
          "text": [
            "[ DEBUG : 2022-06-23 13:05:51,063 ] - findfont: score(<Font 'STIXSizeOneSym' (STIXSizOneSymBol.ttf) normal normal 700 normal>) = 10.335\n",
            "[ DEBUG : 2022-06-23 13:05:51,065 ] - findfont: score(<Font 'DejaVu Sans' (DejaVuSans-BoldOblique.ttf) oblique normal 700 normal>) = 1.335\n",
            "[ DEBUG : 2022-06-23 13:05:51,067 ] - findfont: score(<Font 'cmr10' (cmr10.ttf) normal normal 400 normal>) = 10.05\n",
            "[ DEBUG : 2022-06-23 13:05:51,068 ] - findfont: score(<Font 'STIXGeneral' (STIXGeneralItalic.ttf) italic normal 400 normal>) = 11.05\n",
            "[ DEBUG : 2022-06-23 13:05:51,070 ] - findfont: score(<Font 'STIXSizeTwoSym' (STIXSizTwoSymBol.ttf) normal normal 700 normal>) = 10.335\n",
            "[ DEBUG : 2022-06-23 13:05:51,071 ] - findfont: score(<Font 'STIXGeneral' (STIXGeneralBol.ttf) normal normal 700 normal>) = 10.335\n",
            "[ DEBUG : 2022-06-23 13:05:51,073 ] - findfont: score(<Font 'DejaVu Sans' (DejaVuSans-Oblique.ttf) oblique normal 400 normal>) = 1.05\n",
            "[ DEBUG : 2022-06-23 13:05:51,074 ] - findfont: score(<Font 'cmb10' (cmb10.ttf) normal normal 400 normal>) = 10.05\n",
            "[ DEBUG : 2022-06-23 13:05:51,075 ] - findfont: score(<Font 'DejaVu Sans Display' (DejaVuSansDisplay.ttf) normal normal 400 normal>) = 10.05\n",
            "[ DEBUG : 2022-06-23 13:05:51,077 ] - findfont: score(<Font 'Liberation Serif' (LiberationSerif-BoldItalic.ttf) italic normal 700 normal>) = 11.335\n",
            "[ DEBUG : 2022-06-23 13:05:51,078 ] - findfont: score(<Font 'Liberation Sans Narrow' (LiberationSansNarrow-Italic.ttf) italic normal 400 condensed>) = 11.25\n",
            "[ DEBUG : 2022-06-23 13:05:51,079 ] - findfont: score(<Font 'Liberation Serif' (LiberationSerif-Bold.ttf) normal normal 700 normal>) = 10.335\n",
            "[ DEBUG : 2022-06-23 13:05:51,081 ] - findfont: score(<Font 'Liberation Mono' (LiberationMono-Bold.ttf) normal normal 700 normal>) = 10.335\n",
            "[ DEBUG : 2022-06-23 13:05:51,082 ] - findfont: score(<Font 'Liberation Sans' (LiberationSans-Bold.ttf) normal normal 700 normal>) = 10.335\n",
            "[ DEBUG : 2022-06-23 13:05:51,083 ] - findfont: score(<Font 'Liberation Serif' (LiberationSerif-Regular.ttf) normal normal 400 normal>) = 10.05\n",
            "[ DEBUG : 2022-06-23 13:05:51,085 ] - findfont: score(<Font 'Liberation Sans' (LiberationSans-Italic.ttf) italic normal 400 normal>) = 11.05\n",
            "[ DEBUG : 2022-06-23 13:05:51,086 ] - findfont: score(<Font 'Liberation Sans Narrow' (LiberationSansNarrow-BoldItalic.ttf) italic normal 700 condensed>) = 11.535\n",
            "[ DEBUG : 2022-06-23 13:05:51,087 ] - findfont: score(<Font 'Liberation Serif' (LiberationSerif-Italic.ttf) italic normal 400 normal>) = 11.05\n",
            "[ DEBUG : 2022-06-23 13:05:51,089 ] - findfont: score(<Font 'Liberation Mono' (LiberationMono-Regular.ttf) normal normal 400 normal>) = 10.05\n",
            "[ DEBUG : 2022-06-23 13:05:51,090 ] - findfont: score(<Font 'Liberation Sans Narrow' (LiberationSansNarrow-Bold.ttf) normal normal 700 condensed>) = 10.535\n",
            "[ DEBUG : 2022-06-23 13:05:51,091 ] - findfont: score(<Font 'Humor Sans' (Humor-Sans.ttf) normal normal 400 normal>) = 10.05\n",
            "[ DEBUG : 2022-06-23 13:05:51,093 ] - findfont: score(<Font 'Liberation Sans Narrow' (LiberationSansNarrow-Regular.ttf) normal normal 400 condensed>) = 10.25\n",
            "[ DEBUG : 2022-06-23 13:05:51,094 ] - findfont: score(<Font 'Liberation Mono' (LiberationMono-Italic.ttf) italic normal 400 normal>) = 11.05\n",
            "[ DEBUG : 2022-06-23 13:05:51,095 ] - findfont: score(<Font 'Liberation Sans' (LiberationSans-BoldItalic.ttf) italic normal 700 normal>) = 11.335\n",
            "[ DEBUG : 2022-06-23 13:05:51,097 ] - findfont: score(<Font 'Liberation Sans' (LiberationSans-Regular.ttf) normal normal 400 normal>) = 10.05\n",
            "[ DEBUG : 2022-06-23 13:05:51,098 ] - findfont: score(<Font 'Liberation Mono' (LiberationMono-BoldItalic.ttf) italic normal 700 normal>) = 11.335\n",
            "[ DEBUG : 2022-06-23 13:05:51,100 ] - findfont: Matching sans\\-serif:style=normal:variant=normal:weight=normal:stretch=normal:size=10.0 to DejaVu Sans ('/usr/local/lib/python3.7/dist-packages/matplotlib/mpl-data/fonts/ttf/DejaVuSans.ttf') with score of 0.050000.\n"
          ]
        },
        {
          "data": {
            "image/png": "[encoded data removed]",
            "text/plain": [
              "<Figure size 432x288 with 1 Axes>"
            ]
          },
          "metadata": {
            "needs_background": "light"
          },
          "output_type": "display_data"
        },
        {
          "name": "stdout",
          "output_type": "stream",
          "text": [
            "PREDICTION:  1\n"
          ]
        },
        {
          "data": {
            "image/png": "[encoded data removed]",
            "text/plain": [
              "<Figure size 432x288 with 1 Axes>"
            ]
          },
          "metadata": {
            "needs_background": "light"
          },
          "output_type": "display_data"
        },
        {
          "name": "stdout",
          "output_type": "stream",
          "text": [
            "PREDICTION:  0\n"
          ]
        },
        {
          "data": {
            "image/png": "[encoded data removed]",
            "text/plain": [
              "<Figure size 432x288 with 1 Axes>"
            ]
          },
          "metadata": {
            "needs_background": "light"
          },
          "output_type": "display_data"
        },
        {
          "name": "stdout",
          "output_type": "stream",
          "text": [
            "PREDICTION:  1\n"
          ]
        },
        {
          "data": {
            "image/png": "[encoded data removed]",
            "text/plain": [
              "<Figure size 432x288 with 1 Axes>"
            ]
          },
          "metadata": {
            "needs_background": "light"
          },
          "output_type": "display_data"
        },
        {
          "name": "stdout",
          "output_type": "stream",
          "text": [
            "PREDICTION:  0\n"
          ]
        },
        {
          "data": {
            "image/png": "[encoded data removed]",
            "text/plain": [
              "<Figure size 432x288 with 1 Axes>"
            ]
          },
          "metadata": {
            "needs_background": "light"
          },
          "output_type": "display_data"
        }
      ],
      "source": [
        "import matplotlib.pyplot as plt\n",
        "import keras, random, math\n",
        "#pick random pictures\n",
        "num = math.ceil(random.uniform(1,9995))\n",
        "label = data1[2][1]\n",
        "for i in range(num, num+5):\n",
        "    print('PREDICTION: ', label[i])\n",
        "    plt.title('LABEL: {label}'.format(label=label[i]))\n",
        "    temp = test1[i].numpy() \n",
        "    temp = np.reshape(temp, (28,28), order='F')\n",
        "    plt.imshow(temp, cmap='gray')\n",
        "    plt.show()"
      ]
    }
  ],
  "metadata": {
    "accelerator": "GPU",
    "colab": {
      "collapsed_sections": [],
      "name": "DeepCCA.ipynb",
      "provenance": []
    },
    "gpuClass": "standard",
    "kernelspec": {
      "display_name": "Python 3",
      "name": "python3"
    },
    "language_info": {
      "name": "python"
    }
  },
  "nbformat": 4,
  "nbformat_minor": 0
}
