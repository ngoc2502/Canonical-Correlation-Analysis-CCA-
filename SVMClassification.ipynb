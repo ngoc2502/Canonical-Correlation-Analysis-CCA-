{
  "cells": [
    {
      "cell_type": "markdown",
      "source": [
        "### **Clone code về từ github**"
      ],
      "metadata": {
        "id": "sv4baEABbtKh"
      }
    },
    {
      "cell_type": "code",
      "execution_count": null,
      "metadata": {
        "colab": {
          "base_uri": "https://localhost:8080/"
        },
        "id": "be7KyDXyPw5w",
        "outputId": "ae62a51a-e80d-4f2b-b049-ab14ee6c1bdd"
      },
      "outputs": [
        {
          "output_type": "stream",
          "name": "stdout",
          "text": [
            "Cloning into 'DeepCCA'...\n",
            "remote: Enumerating objects: 27, done.\u001b[K\n",
            "remote: Counting objects: 100% (27/27), done.\u001b[K\n",
            "remote: Compressing objects: 100% (21/21), done.\u001b[K\n",
            "remote: Total 27 (delta 4), reused 23 (delta 2), pack-reused 0\u001b[K\n",
            "Unpacking objects: 100% (27/27), done.\n"
          ]
        }
      ],
      "source": [
        "!git clone https://github.com/ToanLyHoa/DeepCCA\n"
      ]
    },
    {
      "cell_type": "code",
      "execution_count": null,
      "metadata": {
        "colab": {
          "base_uri": "https://localhost:8080/"
        },
        "id": "X2yqDeKdQA2M",
        "outputId": "43e14d21-40ce-4d63-abc1-421379335e47"
      },
      "outputs": [
        {
          "output_type": "stream",
          "name": "stdout",
          "text": [
            "/content/DeepCCA\n"
          ]
        }
      ],
      "source": [
        "cd DeepCCA"
      ]
    },
    {
      "cell_type": "markdown",
      "source": [
        "### **Chuẩn bị đầy đủ các thư viện**"
      ],
      "metadata": {
        "id": "MFGHPCvmdP6K"
      }
    },
    {
      "cell_type": "code",
      "execution_count": null,
      "metadata": {
        "id": "dqCNEH5GPz9k"
      },
      "outputs": [],
      "source": [
        "%load_ext autoreload\n",
        "%autoreload 2\n",
        "import torch\n",
        "import torch.nn as nn\n",
        "import numpy as np\n",
        "from linear_cca import linear_cca\n",
        "from torch.utils.data import BatchSampler, SequentialSampler\n",
        "from DeepCCAModels import DeepCCA\n",
        "from main import Solver\n",
        "from utils import load_data, svm_classify\n",
        "try:\n",
        "    import cPickle as thepickle\n",
        "except ImportError:\n",
        "    import _pickle as thepickle\n",
        "\n",
        "import gzip\n",
        "import numpy as np\n",
        "torch.set_default_tensor_type(torch.DoubleTensor)"
      ]
    },
    {
      "cell_type": "markdown",
      "source": [
        "### **Tải dữ liệu về google colab**\n",
        "### **Sau đó load vào data1 và data2**"
      ],
      "metadata": {
        "id": "NPpfKu7z16hv"
      }
    },
    {
      "cell_type": "code",
      "execution_count": null,
      "metadata": {
        "colab": {
          "base_uri": "https://localhost:8080/"
        },
        "id": "Jkn_2wdJQIhs",
        "outputId": "2a646738-915d-4462-9d21-765e77fca43a"
      },
      "outputs": [
        {
          "output_type": "stream",
          "name": "stdout",
          "text": [
            "Downloading...\n",
            "From: https://www2.cs.uic.edu/~vnoroozi/noisy-mnist/noisymnist_view1.gz\n",
            "To: /content/DeepCCA/noisymnist_view1.gz\n",
            "100% 88.9M/88.9M [00:07<00:00, 12.2MB/s]\n",
            "Downloading...\n",
            "From: https://www2.cs.uic.edu/~vnoroozi/noisy-mnist/noisymnist_view2.gz\n",
            "To: /content/DeepCCA/noisymnist_view2.gz\n",
            "100% 210M/210M [00:15<00:00, 13.7MB/s]\n",
            "loading data ...\n",
            "loading data ...\n"
          ]
        }
      ],
      "source": [
        "!gdown  https://www2.cs.uic.edu/~vnoroozi/noisy-mnist/noisymnist_view1.gz\n",
        "!gdown  https://www2.cs.uic.edu/~vnoroozi/noisy-mnist/noisymnist_view2.gz\n",
        "data1 = load_data('noisymnist_view1.gz')\n",
        "data2 = load_data('noisymnist_view2.gz')"
      ]
    },
    {
      "cell_type": "markdown",
      "source": [
        "### **Set up mọi thứ trước khi đi qua SVM**"
      ],
      "metadata": {
        "id": "TnJUzUHKdg7W"
      }
    },
    {
      "cell_type": "code",
      "execution_count": null,
      "metadata": {
        "id": "OXO37GbPa7pW"
      },
      "outputs": [],
      "source": [
        "train1, train2 = data1[0][0], data2[0][0]\n",
        "val1, val2 = data1[1][0], data2[1][0]\n",
        "test1, test2 = data1[2][0], data2[2][0]\n",
        "\n",
        "new_data = []\n",
        "# print(outputs)\n",
        "for idx in range(3):\n",
        "    new_data.append([data1[idx][0], 0, data1[idx][1]])"
      ]
    },
    {
      "cell_type": "markdown",
      "source": [
        "### **Tiến hành thực nghiệm mô hình SVM**"
      ],
      "metadata": {
        "id": "jr-84c1seH1J"
      }
    },
    {
      "cell_type": "code",
      "execution_count": null,
      "metadata": {
        "colab": {
          "base_uri": "https://localhost:8080/"
        },
        "id": "xbGFwtcgcyC1",
        "outputId": "8d75f6d3-c205-4e45-c59d-8fc4709ded0d"
      },
      "outputs": [
        {
          "output_type": "stream",
          "name": "stdout",
          "text": [
            "training SVM...\n",
            "SVM time: 24.17841410636902\n",
            "Accuracy on view 1 (train data) is: 81.098\n",
            "Accuracy on view 1 (validation data) is: 81.75\n",
            "Accuracy on view 1 (test data) is: 81.14\n"
          ]
        }
      ],
      "source": [
        "import time\n",
        "start = time.time()\n",
        "# Training and testing of SVM with linear kernel on the view 1 with new features\n",
        "[test_acc, valid_acc, train_acc] = svm_classify(new_data, C=0.01)\n",
        "end = time.time()\n",
        "print('SVM time:', end - start)\n",
        "print(\"Accuracy on view 1 (train data) is:\", train_acc * 100.0)\n",
        "print(\"Accuracy on view 1 (validation data) is:\", valid_acc * 100.0)\n",
        "print(\"Accuracy on view 1 (test data) is:\", test_acc*100.0)\n"
      ]
    },
    {
      "cell_type": "markdown",
      "source": [
        "### **Demo kết quả**"
      ],
      "metadata": {
        "id": "efCG-9ixi3Kn"
      }
    },
    {
      "cell_type": "code",
      "source": [
        "import matplotlib.pyplot as plt\n",
        "import keras, random, math\n",
        "#pick random pictures\n",
        "num = math.ceil(random.uniform(1,9995))\n",
        "label = data1[2][1]\n",
        "for i in range(num, num+5):\n",
        "    print('PREDICTION: ', label[i])\n",
        "    plt.title('LABEL: {label}'.format(label=label[i]))\n",
        "    temp = test1[i].numpy() \n",
        "    temp = np.reshape(temp, (28,28), order='F')\n",
        "    plt.imshow(temp, cmap='gray')\n",
        "    plt.show()"
      ],
      "metadata": {
        "id": "fuO3PIrep7dY",
        "colab": {
          "base_uri": "https://localhost:8080/",
          "height": 1000
        },
        "outputId": "6f2f5f2e-4fe9-4c1f-f119-40887a1de2f9"
      },
      "execution_count": null,
      "outputs": [
        {
          "output_type": "stream",
          "name": "stdout",
          "text": [
            "PREDICTION:  6\n"
          ]
        },
        {
          "output_type": "display_data",
          "data": {
            "text/plain": [
              "<Figure size 432x288 with 1 Axes>"
            ],
            "image/png": "[encoded data removed]"
          },
          "metadata": {
            "needs_background": "light"
          }
        },
        {
          "output_type": "stream",
          "name": "stdout",
          "text": [
            "PREDICTION:  5\n"
          ]
        },
        {
          "output_type": "display_data",
          "data": {
            "text/plain": [
              "<Figure size 432x288 with 1 Axes>"
            ],
            "image/png": "[encoded data removed]"
          },
          "metadata": {
            "needs_background": "light"
          }
        },
        {
          "output_type": "stream",
          "name": "stdout",
          "text": [
            "PREDICTION:  8\n"
          ]
        },
        {
          "output_type": "display_data",
          "data": {
            "text/plain": [
              "<Figure size 432x288 with 1 Axes>"
            ],
            "image/png": "[encoded data removed]"
          },
          "metadata": {
            "needs_background": "light"
          }
        },
        {
          "output_type": "stream",
          "name": "stdout",
          "text": [
            "PREDICTION:  4\n"
          ]
        },
        {
          "output_type": "display_data",
          "data": {
            "text/plain": [
              "<Figure size 432x288 with 1 Axes>"
            ],
            "image/png": "[encoded data removed]"
          },
          "metadata": {
            "needs_background": "light"
          }
        },
        {
          "output_type": "stream",
          "name": "stdout",
          "text": [
            "PREDICTION:  6\n"
          ]
        },
        {
          "output_type": "display_data",
          "data": {
            "text/plain": [
              "<Figure size 432x288 with 1 Axes>"
            ],
            "image/png": "[encoded data removed]"
          },
          "metadata": {
            "needs_background": "light"
          }
        }
      ]
    }
  ],
  "metadata": {
    "accelerator": "GPU",
    "colab": {
      "collapsed_sections": [],
      "name": "SVMClassification.ipynb",
      "provenance": []
    },
    "gpuClass": "standard",
    "kernelspec": {
      "display_name": "Python 3",
      "name": "python3"
    },
    "language_info": {
      "name": "python"
    }
  },
  "nbformat": 4,
  "nbformat_minor": 0
}